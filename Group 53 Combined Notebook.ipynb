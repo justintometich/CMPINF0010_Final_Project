{
 "cells": [
  {
   "cell_type": "markdown",
   "metadata": {},
   "source": [
    "# Combined Notebook for Canvas Group# 53"
   ]
  },
  {
   "cell_type": "markdown",
   "metadata": {},
   "source": [
    "## Walkability Analysis by Justin Tometich:"
   ]
  },
  {
   "cell_type": "code",
   "execution_count": 5,
   "metadata": {},
   "outputs": [
    {
     "ename": "ModuleNotFoundError",
     "evalue": "No module named 'pandas'",
     "output_type": "error",
     "traceback": [
      "\u001b[1;31m---------------------------------------------------------------------------\u001b[0m",
      "\u001b[1;31mModuleNotFoundError\u001b[0m                       Traceback (most recent call last)",
      "\u001b[1;32m<ipython-input-5-aeacc4a84024>\u001b[0m in \u001b[0;36m<module>\u001b[1;34m\u001b[0m\n\u001b[1;32m----> 1\u001b[1;33m \u001b[1;32mimport\u001b[0m \u001b[0mpandas\u001b[0m \u001b[1;32mas\u001b[0m \u001b[0mpd\u001b[0m\u001b[1;33m\u001b[0m\u001b[0m\n\u001b[0m\u001b[0;32m      2\u001b[0m \u001b[1;32mimport\u001b[0m \u001b[0mgeopandas\u001b[0m\u001b[1;33m\u001b[0m\u001b[0m\n\u001b[0;32m      3\u001b[0m \u001b[1;32mimport\u001b[0m \u001b[0mnumpy\u001b[0m \u001b[1;32mas\u001b[0m \u001b[0mnp\u001b[0m\u001b[1;33m\u001b[0m\u001b[0m\n\u001b[0;32m      4\u001b[0m \u001b[1;33m\u001b[0m\u001b[0m\n\u001b[0;32m      5\u001b[0m \u001b[0msidewalk_ratios_geoid\u001b[0m \u001b[1;33m=\u001b[0m \u001b[0mpd\u001b[0m\u001b[1;33m.\u001b[0m\u001b[0mread_csv\u001b[0m\u001b[1;33m(\u001b[0m\u001b[1;34m\"https://data.wprdc.org/dataset/853a077d-0a31-4292-8a1d-5d60b530169b/resource/b90ccee1-c0aa-43b9-93e2-8a25e690c393/download/sidewalkstreetratioupload.csv\"\u001b[0m\u001b[1;33m)\u001b[0m\u001b[1;33m\u001b[0m\u001b[0m\n",
      "\u001b[1;31mModuleNotFoundError\u001b[0m: No module named 'pandas'"
     ]
    }
   ],
   "source": [
    "import pandas as pd\n",
    "import geopandas\n",
    "import numpy as np\n",
    "\n",
    "sidewalk_ratios_geoid = pd.read_csv(\"https://data.wprdc.org/dataset/853a077d-0a31-4292-8a1d-5d60b530169b/resource/b90ccee1-c0aa-43b9-93e2-8a25e690c393/download/sidewalkstreetratioupload.csv\")\n",
    "walk_scores_2014_data = pd.read_csv(\"https://data.wprdc.org/dataset/4d3d4324-b32a-4519-b56f-cee2340057bf/resource/682b1df1-a63b-4413-9362-ba077af63baa/download/walkscorect.xls-walk-score-by-ct.csv\")\n",
    "census_neighborhoods_2010 = geopandas.read_file(\"https://data.wprdc.org/dataset/4699bc46-8a74-44ed-9bef-f22dd595a964/resource/e51e4102-5aa1-4ef7-9f08-76fded66cb58/download/pittsburghpa2010-census-tracts.geojson\")\n",
    "\n",
    "census_neighborhoods_2010[\"geoid10\"] = census_neighborhoods_2010[\"geoid10\"].astype(int)\n",
    "sidewalk_ratios_geoid[\"GEOID\"] = sidewalk_ratios_geoid[\"GEOID\"].astype(int)\n",
    "sidewalk_ratios_with_neighborhood = census_neighborhoods_2010.merge(sidewalk_ratios_geoid, how = \"left\", left_on = \"geoid10\", right_on = \"GEOID\")\n",
    "\n",
    "census_neighborhoods_2010 = geopandas.read_file(\"https://data.wprdc.org/dataset/4699bc46-8a74-44ed-9bef-f22dd595a964/resource/e51e4102-5aa1-4ef7-9f08-76fded66cb58/download/pittsburghpa2010-census-tracts.geojson\")\n",
    "walk_scores_2014_data[\"Census Tract\"] = walk_scores_2014_data[\"Census Tract\"].astype(int)\n",
    "census_neighborhoods_2010[\"tractce10\"] = census_neighborhoods_2010[\"tractce10\"].astype(int)\n",
    "walk_scores_with_neighborhood = census_neighborhoods_2010.merge(walk_scores_2014_data, how = \"left\", left_on = \"tractce10\", right_on = \"Census Tract\")\n",
    "\n",
    "\n",
    "sidewalk_ratios_with_neighborhood[\"geoid10\"] = sidewalk_ratios_with_neighborhood[\"geoid10\"].astype(int)\n",
    "walk_scores_with_neighborhood[\"geoid10\"] = walk_scores_with_neighborhood[\"geoid10\"].astype(int)\n",
    "sidewalks_and_walk_scores_combined = walk_scores_with_neighborhood.merge(sidewalk_ratios_with_neighborhood[[\"hood\", \"Ratio\", \"geoid10\"]], how = \"left\", left_on = \"geoid10\", right_on = \"geoid10\")\n",
    "\n",
    "for index, row in sidewalks_and_walk_scores_combined.iterrows():\n",
    "    # print(row)\n",
    "    if row.loc[\"Ratio\"] < 2:\n",
    "        sidewalks_and_walk_scores_combined.at[index, \"Walk Score\"] = None\n",
    "\n",
    "sidewalks_and_walk_scores_combined = geopandas.GeoDataFrame(sidewalks_and_walk_scores_combined)\n",
    "sidewalks_and_walk_scores_combined.plot(column = \"Walk Score\", legend = True, legend_kwds={'label': \"Walk Score\"}, figsize=(15,10), edgecolor=\"black\", missing_kwds={\"color\": \"lightgrey\"}).set_axis_off()"
   ]
  },
  {
   "cell_type": "code",
   "execution_count": null,
   "metadata": {},
   "outputs": [
    {
     "data": {
      "text/html": [
       "<div>\n",
       "<style scoped>\n",
       "    .dataframe tbody tr th:only-of-type {\n",
       "        vertical-align: middle;\n",
       "    }\n",
       "\n",
       "    .dataframe tbody tr th {\n",
       "        vertical-align: top;\n",
       "    }\n",
       "\n",
       "    .dataframe thead th {\n",
       "        text-align: right;\n",
       "    }\n",
       "</style>\n",
       "<table border=\"1\" class=\"dataframe\">\n",
       "  <thead>\n",
       "    <tr style=\"text-align: right;\">\n",
       "      <th></th>\n",
       "      <th>hood_x</th>\n",
       "      <th>Ratio</th>\n",
       "      <th>Walk Score</th>\n",
       "    </tr>\n",
       "  </thead>\n",
       "  <tbody>\n",
       "    <tr>\n",
       "      <th>89</th>\n",
       "      <td>Shadyside</td>\n",
       "      <td>2.778579</td>\n",
       "      <td>88.0</td>\n",
       "    </tr>\n",
       "    <tr>\n",
       "      <th>99</th>\n",
       "      <td>Squirrel Hill South</td>\n",
       "      <td>2.719089</td>\n",
       "      <td>88.0</td>\n",
       "    </tr>\n",
       "    <tr>\n",
       "      <th>80</th>\n",
       "      <td>Shadyside</td>\n",
       "      <td>2.695575</td>\n",
       "      <td>88.0</td>\n",
       "    </tr>\n",
       "    <tr>\n",
       "      <th>124</th>\n",
       "      <td>East Liberty</td>\n",
       "      <td>2.116163</td>\n",
       "      <td>86.0</td>\n",
       "    </tr>\n",
       "    <tr>\n",
       "      <th>35</th>\n",
       "      <td>Bloomfield</td>\n",
       "      <td>2.057364</td>\n",
       "      <td>86.0</td>\n",
       "    </tr>\n",
       "    <tr>\n",
       "      <th>78</th>\n",
       "      <td>Bloomfield</td>\n",
       "      <td>2.081824</td>\n",
       "      <td>86.0</td>\n",
       "    </tr>\n",
       "    <tr>\n",
       "      <th>39</th>\n",
       "      <td>Bloomfield</td>\n",
       "      <td>2.265926</td>\n",
       "      <td>82.0</td>\n",
       "    </tr>\n",
       "    <tr>\n",
       "      <th>66</th>\n",
       "      <td>North Oakland</td>\n",
       "      <td>4.045073</td>\n",
       "      <td>82.0</td>\n",
       "    </tr>\n",
       "    <tr>\n",
       "      <th>77</th>\n",
       "      <td>Bloomfield</td>\n",
       "      <td>2.700800</td>\n",
       "      <td>82.0</td>\n",
       "    </tr>\n",
       "    <tr>\n",
       "      <th>31</th>\n",
       "      <td>Squirrel Hill South</td>\n",
       "      <td>2.560622</td>\n",
       "      <td>80.0</td>\n",
       "    </tr>\n",
       "  </tbody>\n",
       "</table>\n",
       "</div>"
      ],
      "text/plain": [
       "                  hood_x     Ratio  Walk Score\n",
       "89             Shadyside  2.778579        88.0\n",
       "99   Squirrel Hill South  2.719089        88.0\n",
       "80             Shadyside  2.695575        88.0\n",
       "124         East Liberty  2.116163        86.0\n",
       "35            Bloomfield  2.057364        86.0\n",
       "78            Bloomfield  2.081824        86.0\n",
       "39            Bloomfield  2.265926        82.0\n",
       "66         North Oakland  4.045073        82.0\n",
       "77            Bloomfield  2.700800        82.0\n",
       "31   Squirrel Hill South  2.560622        80.0"
      ]
     },
     "execution_count": 2,
     "metadata": {},
     "output_type": "execute_result"
    }
   ],
   "source": [
    "sidewalks_and_walk_scores_combined[[\"hood_x\", \"Ratio\", \"Walk Score\"]].sort_values(\"Walk Score\", ascending=False).head(10)"
   ]
  },
  {
   "cell_type": "markdown",
   "metadata": {},
   "source": [
    "### Walkability Analysis\n",
    "Walkability was measured by two metrics from two different datasets: one about an already compiled Walk Score determined by combining distance from amenities, population density, road intersection density, etc. as well as another dataset specifically about the ratio of sidewalk length to road length. A sidewalk:road ratio of 2 indicates that, on average, each road will have sidewalks on both sides of the road. I then took Walk Score as my primary metric and filtered out neighborhoods with sidewalk:road ratios of less than 2 to determine which neighborhoods are most accessible by foot. Notably, downtown scores well in terms of Walk Score, but, likely because of freeways, alleyways, and other pedestrian-unfriendly roads, it falls below the ratio of 2 threshold. Thus, while downtown has the greatest density of amenities to bolster its walk score, it is discounted in this analysis. With the sidewalk ratio threshold taken into consideration, the top neighborhoods are Bloomfield, Shadyside, Squirrel Hill South, and East Liberty with Shadyside and Squirrel Hill South having similar walk scores but higher sidewalk ratios. Ratios greater than 2 indicate that more sidewalk exists than is needed to cover both directions of all roads in the neighborhood, which could be explained by pedestrian-only paths or sidewalks that cover the ends of cul-de-sacs (which, by having less car traffic, are a boon to pedestrians if they go to one). Also, the walk scores of these neighborhoods are in the mid- to upper-80s, which is only somewhat lower than the 100 score given to downtown."
   ]
  },
  {
   "cell_type": "markdown",
   "metadata": {},
   "source": [
    "## Best Bus Stops by Lucy Pry"
   ]
  },
  {
   "cell_type": "code",
   "execution_count": null,
   "metadata": {},
   "outputs": [],
   "source": [
    "import pandas as pd\n",
    "import matplotlib.pyplot as plt\n",
    "\n",
    "data = pd.read_csv('bus.csv')\n",
    "dropped = data.drop(columns=['STOP_ID','ROUTE','STOP_ROUTE','CLEVER_ID','ALL_ROUTES','STOP_TYPE','1806_ON','1806_OFF','1809_ON','1809_OFF','1811_ON','1811_OFF','1903_ON','1903_OFF','1906_ON','1906_OFF'])\n",
    "\n",
    "busNA = dropped.dropna()\n",
    "query_mask = busNA['CURRENT_STOP'].str.contains(\"Yes\")\n",
    "busBus = busNA[query_mask]\n",
    "shelterFilter = busBus.drop(busBus.loc[busBus['SHELTER']=='No Shelter'].index)\n",
    "avgOn = shelterFilter.query('FY19_AVG_ON >= 100')\n",
    "bestOfTheBest = avgOn.query('FY19_AVG_OFF >= 100')\n",
    "\n",
    "neighborhoods = pd.read_csv('Neighborhoods.csv')\n",
    "neighborhoods['Bus Stops'].plot(kind = 'bar', x = \"Neighborhoods\", y = \"Bus Stops\")"
   ]
  },
  {
   "cell_type": "markdown",
   "metadata": {},
   "source": [
    "### Bus Stop Analysis\n",
    "\n",
    "The dataset I used was from 2019, because that was the last normal year before the COIVD-19 pandemic, therefore making it the best metric for as the world is returning to normal. The best part of Pittsburgh for people who are relying on the Port Authority busing system for transportation was measured through whether they had shelter at the stop, whether it was still an active stop, and then based on how often it was used. Any bus stops that did not have shelter or was no longer an active stop was filtered out. Then, if the bus stop had less than 100 people on or less than 100 people off it was filtered out because due to the size of Pittsburgh, less than 100 people is not a lot for a month and due to the unreliable nature of lesser used Port Authority stops, it is better to measure the more often used stops as there is a higher likelyhood they will have busses that arrive on time. Ergo, Downtown Pittsburgh ended up being the best place to live for someone relying on the busing system as it had the most amount of 'best' bus stops, sitting at 21 stops."
   ]
  }
 ],
 "metadata": {
  "kernelspec": {
   "display_name": "Python 3",
   "language": "python",
   "name": "python3"
  },
  "language_info": {
   "codemirror_mode": {
    "name": "ipython",
    "version": 3
   },
   "file_extension": ".py",
   "mimetype": "text/x-python",
   "name": "python",
   "nbconvert_exporter": "python",
   "pygments_lexer": "ipython3",
   "version": "3.6.6"
  }
 },
 "nbformat": 4,
 "nbformat_minor": 4
}
